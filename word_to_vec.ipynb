{
 "cells": [
  {
   "cell_type": "code",
   "execution_count": 24,
   "metadata": {},
   "outputs": [],
   "source": [
    "from gensim.models import Word2Vec\n",
    "from sklearn.metrics.pairwise import cosine_similarity\n",
    "from sklearn.decomposition import PCA\n",
    "from matplotlib import pyplot\n",
    "from gensim.models import KeyedVectors"
   ]
  },
  {
   "cell_type": "code",
   "execution_count": 59,
   "metadata": {},
   "outputs": [],
   "source": [
    "# define training data\n",
    "sentences = [['this', 'is', 'the', 'first', 'sentence', 'for', 'word2vec'],\n",
    "\t\t\t['this', 'is', 'the', 'second', 'sentence'],\n",
    "\t\t\t['yet', 'another', 'sentence'],\n",
    "\t\t\t['one', 'more', 'sentence'],\n",
    "\t\t\t['and', 'the', 'final', 'sentence']]\n",
    "# sentences = [['republican', 'pro-life', 'guns', 'rights', 'freedom', 'god', 'religion'],\n",
    "# \t\t\t['democratic', 'abortion', 'liberal', 'sustainability', 'environment']]"
   ]
  },
  {
   "cell_type": "code",
   "execution_count": 60,
   "metadata": {},
   "outputs": [
    {
     "name": "stdout",
     "output_type": "stream",
     "text": [
      "Word2Vec(vocab=14, vector_size=100, alpha=0.025)\n"
     ]
    }
   ],
   "source": [
    "# train model\n",
    "model = Word2Vec(sentences, min_count=1)\n",
    "# summarize the loaded model\n",
    "print(model)"
   ]
  },
  {
   "cell_type": "code",
   "execution_count": 61,
   "metadata": {},
   "outputs": [
    {
     "name": "stdout",
     "output_type": "stream",
     "text": [
      "['sentence', 'the', 'is', 'this', 'final', 'and', 'more', 'one', 'another', 'yet', 'second', 'word2vec', 'for', 'first']\n"
     ]
    }
   ],
   "source": [
    "# summarize vocabulary\n",
    "words = list(model.wv.index_to_key)\n",
    "print(words)"
   ]
  },
  {
   "cell_type": "code",
   "execution_count": 66,
   "metadata": {},
   "outputs": [
    {
     "name": "stdout",
     "output_type": "stream",
     "text": [
      "[ 8.1322715e-03 -4.4573355e-03 -1.0683584e-03  1.0063648e-03\n",
      " -1.9111396e-04  1.1481761e-03  6.1138608e-03 -2.0272731e-05\n",
      " -3.2459665e-03 -1.5107298e-03  5.8972980e-03  1.5141011e-03\n",
      " -7.2426320e-04  9.3332455e-03 -4.9212836e-03 -8.3841087e-04\n",
      "  9.1754105e-03  6.7494274e-03  1.5028549e-03 -8.8825608e-03\n",
      "  1.1487460e-03 -2.2882556e-03  9.3682362e-03  1.2099266e-03\n",
      "  1.4900636e-03  2.4064088e-03 -1.8360066e-03 -4.9996353e-03\n",
      "  2.3242951e-04 -2.0141816e-03  6.6009331e-03  8.9401221e-03\n",
      " -6.7475555e-04  2.9770136e-03 -6.1076544e-03  1.6993236e-03\n",
      " -6.9262339e-03 -8.6940266e-03 -5.9002042e-03 -8.9564752e-03\n",
      "  7.2775935e-03 -5.7720328e-03  8.2763508e-03 -7.2435453e-03\n",
      "  3.4216738e-03  9.6749971e-03 -7.7854488e-03 -9.9450592e-03\n",
      " -4.3291473e-03 -2.6831317e-03 -2.7128935e-04 -8.8315513e-03\n",
      " -8.6175585e-03  2.8002094e-03 -8.2064085e-03 -9.0693375e-03\n",
      " -2.3404669e-03 -8.6318087e-03 -7.0566512e-03 -8.4011508e-03\n",
      " -3.0133009e-04 -4.5642997e-03  6.6271736e-03  1.5271592e-03\n",
      " -3.3414769e-03  6.1089708e-03 -6.0132863e-03 -4.6561696e-03\n",
      " -7.2075105e-03 -4.3365811e-03 -1.8093300e-03  6.4896415e-03\n",
      " -2.7703929e-03  4.9189664e-03  6.9044423e-03 -7.4637057e-03\n",
      "  4.5648501e-03  6.1269784e-03 -2.9544758e-03  6.6250204e-03\n",
      "  6.1258795e-03 -6.4434861e-03 -6.7645526e-03  2.5389576e-03\n",
      " -1.6238189e-03 -6.0651279e-03  9.4992090e-03 -5.1301480e-03\n",
      " -6.5540983e-03 -1.1988640e-04 -2.7014280e-03  4.4440030e-04\n",
      " -3.5374593e-03 -4.1933061e-04 -7.0861576e-04  8.2282064e-04\n",
      "  8.1948163e-03 -5.7367086e-03 -1.6595292e-03  5.5716061e-03]\n"
     ]
    }
   ],
   "source": [
    "# access vector for one word\n",
    "print(model.wv['more'])"
   ]
  },
  {
   "cell_type": "code",
   "execution_count": 63,
   "metadata": {},
   "outputs": [
    {
     "name": "stdout",
     "output_type": "stream",
     "text": [
      "Word2Vec(vocab=14, vector_size=100, alpha=0.025)\n"
     ]
    }
   ],
   "source": [
    "# save model\n",
    "model.save('model.bin')\n",
    "# load model\n",
    "new_model = Word2Vec.load('model.bin')\n",
    "print(new_model)"
   ]
  },
  {
   "cell_type": "code",
   "execution_count": 64,
   "metadata": {},
   "outputs": [],
   "source": [
    "# fit a 2d PCA model to the vectors\n",
    "X = model.wv[model.wv.index_to_key]\n",
    "pca = PCA(n_components=2)\n",
    "result = pca.fit_transform(X)"
   ]
  },
  {
   "cell_type": "code",
   "execution_count": 65,
   "metadata": {},
   "outputs": [
    {
     "data": {
      "image/png": "[encoded data removed]",
      "text/plain": [
       "<Figure size 432x288 with 1 Axes>"
      ]
     },
     "metadata": {
      "needs_background": "light"
     },
     "output_type": "display_data"
    }
   ],
   "source": [
    "# create a scatter plot of the projection\n",
    "pyplot.scatter(result[:, 0], result[:, 1])\n",
    "words = list(model.wv.index_to_key)\n",
    "\n",
    "for i, word in enumerate(words):\n",
    "\tpyplot.annotate(word, xy=(result[i, 0], result[i, 1]))\n",
    "pyplot.show()"
   ]
  },
  {
   "cell_type": "code",
   "execution_count": 25,
   "metadata": {},
   "outputs": [],
   "source": [
    "# Okay, that was cool, but lets try it on some real data\n",
    "filename = 'GoogleNews-vectors-negative300.bin'\n",
    "model = KeyedVectors.load_word2vec_format(filename, binary=True)"
   ]
  },
  {
   "cell_type": "code",
   "execution_count": 28,
   "metadata": {},
   "outputs": [
    {
     "name": "stdout",
     "output_type": "stream",
     "text": [
      "[('queen', 0.7118192911148071)]\n"
     ]
    }
   ],
   "source": [
    "# calculate: (king - man) + woman = ?\n",
    "# simplifies to: - man + king + woman = ?\n",
    "# simplifies to: NEGATIVE(man), POSITIVE(woman), POSITIVE(king)\n",
    "result = model.most_similar(positive=['woman', 'king'], negative=['man'], topn=1)\n",
    "print(result)"
   ]
  },
  {
   "cell_type": "code",
   "execution_count": 44,
   "metadata": {},
   "outputs": [
    {
     "name": "stdout",
     "output_type": "stream",
     "text": [
      "[('mayhem', 0.5155529379844666), ('bedlam', 0.5017958879470825), ('utter_chaos', 0.47838151454925537), ('choas', 0.46450385451316833), ('anarchy', 0.4629233181476593), ('strife', 0.4458114802837372), ('pandemonium', 0.4301302134990692), ('turmoil', 0.42293694615364075), ('chaotic', 0.4138229191303253), ('civil_strife', 0.4083496928215027)]\n"
     ]
    }
   ],
   "source": [
    "# Lets try some more examples\n",
    "result = model.most_similar(positive=['chaos'], negative=['order'], topn=10)\n",
    "print(result)"
   ]
  },
  {
   "cell_type": "code",
   "execution_count": null,
   "metadata": {},
   "outputs": [],
   "source": []
  }
 ],
 "metadata": {
  "kernelspec": {
   "display_name": "Python 3.7.3 ('base')",
   "language": "python",
   "name": "python3"
  },
  "language_info": {
   "codemirror_mode": {
    "name": "ipython",
    "version": 3
   },
   "file_extension": ".py",
   "mimetype": "text/x-python",
   "name": "python",
   "nbconvert_exporter": "python",
   "pygments_lexer": "ipython3",
   "version": "3.7.3"
  },
  "orig_nbformat": 4,
  "vscode": {
   "interpreter": {
    "hash": "5266167bfefec83a7600e000311dd819b15659c36af9c3eef99276a511b24841"
   }
  }
 },
 "nbformat": 4,
 "nbformat_minor": 2
}
